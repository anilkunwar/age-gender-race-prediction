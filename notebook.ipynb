{
  "cells": [
    {
      "metadata": {
        "_uuid": "7c6e265aa320f20fb5c55b869ac9f4b576f57c55"
      },
      "cell_type": "markdown",
      "source": "UTKFace dataset is a large-scale face dataset with long age span (range from 0 to 116 years old). The dataset consists of over 20,000 face images with annotations of age, gender, and ethnicity. The images cover large variation in pose, facial expression, illumination, occlusion, resolution, etc. This dataset could be used on a variety of tasks, e.g., face detection, age estimation, age progression/regression, landmark localization, etc.\n\nThe labels of each face image is embedded in the file name, formated like [age]_[gender]_[race]_[date&time].jpg\n\n[age] is an integer from 0 to 116, indicating the age\n[gender] is either 0 (male) or 1 (female)\n[race] is an integer from 0 to 4, denoting White, Black, Asian, Indian, and Others (like Hispanic, Latino, Middle Eastern).\n[date&time] is in the format of yyyymmddHHMMSSFFF, showing the date and time an image was collected to UTKFace"
    },
    {
      "metadata": {
        "_uuid": "8f2839f25d086af736a60e9eeb907d3b93b6e0e5",
        "_cell_guid": "b1076dfc-b9ad-4769-8c92-a6c4dae69d19",
        "trusted": true,
        "collapsed": true
      },
      "cell_type": "code",
      "source": "import numpy as np # linear algebra\nimport pandas as pd # data processing, CSV file I/O (e.g. pd.read_csv)\nimport os\nimport glob\nimport pandas as pd\nimport matplotlib.pyplot as plt\nimport seaborn as sns",
      "execution_count": null,
      "outputs": []
    },
    {
      "metadata": {
        "_cell_guid": "79c7e3d0-c299-4dcb-8224-4455121ee9b0",
        "_uuid": "d629ff2d2480ee46fbb7e2d37f6b5fab8052498a",
        "trusted": true,
        "collapsed": true
      },
      "cell_type": "code",
      "source": "%%bash\nls ../input/utkface_aligned_cropped\n# it seems crop_part1 conists of subset of data contained in UTKFace so we won't be using it.",
      "execution_count": null,
      "outputs": []
    },
    {
      "metadata": {
        "_uuid": "a111eb9fae738b42a92c465e3bf63d385db6a67b"
      },
      "cell_type": "markdown",
      "source": "**Constants**"
    },
    {
      "metadata": {
        "trusted": true,
        "_uuid": "867fd6bebbfda496ca070db1695fc38c6fa169d2",
        "collapsed": true
      },
      "cell_type": "code",
      "source": "DATA_DIR = \"../input/utkface_aligned_cropped/UTKFace\"\nTRAIN_TEST_SPLIT = 0.7\nIM_WIDTH = IM_HEIGHT = 198\nID_GENDER_MAP = {0: 'male', 1: 'female'}\nGENDER_ID_MAP = dict((g, i) for i, g in ID_GENDER_MAP.items())\nID_RACE_MAP = {0: 'white', 1: 'black', 2: 'asian', 3: 'indian', 4: 'others'}\nRACE_ID_MAP = dict((r, i) for i, r in ID_RACE_MAP.items())\n\nID_GENDER_MAP, GENDER_ID_MAP, ID_RACE_MAP, RACE_ID_MAP",
      "execution_count": null,
      "outputs": []
    },
    {
      "metadata": {
        "trusted": true,
        "_uuid": "f82c1685a37d4e77022ff870cde57ea82f52c1a0",
        "collapsed": true
      },
      "cell_type": "code",
      "source": "def parse_filepath(filepath):\n    try:\n        path, filename = os.path.split(filepath)\n        filename, ext = os.path.splitext(filename)\n        age, gender, race, _ = filename.split(\"_\")\n        return int(age), ID_GENDER_MAP[int(gender)], ID_RACE_MAP[int(race)]\n    except Exception as e:\n        print(filepath)\n        return None, None, None",
      "execution_count": null,
      "outputs": []
    },
    {
      "metadata": {
        "trusted": true,
        "_uuid": "350a2ac4feb3fd7ed81fa6e1d2066f0fdb1d2009",
        "collapsed": true
      },
      "cell_type": "code",
      "source": "# create a pandas data frame of images, age, gender and race\nfiles = glob.glob(os.path.join(DATA_DIR, \"*.jpg\"))",
      "execution_count": null,
      "outputs": []
    },
    {
      "metadata": {
        "trusted": true,
        "_uuid": "59892f1296870fca397e6aaa1888e551d739901c",
        "collapsed": true
      },
      "cell_type": "code",
      "source": "attributes = list(map(parse_filepath, files))",
      "execution_count": null,
      "outputs": []
    },
    {
      "metadata": {
        "trusted": true,
        "_uuid": "527d33d9c883d6e45f1576152660ec2feb9be7cb",
        "collapsed": true
      },
      "cell_type": "code",
      "source": "df = pd.DataFrame(attributes)\ndf['file'] = files\ndf.columns = ['age', 'gender', 'race', 'file']\ndf = df.dropna()\ndf.head()",
      "execution_count": null,
      "outputs": []
    },
    {
      "metadata": {
        "_uuid": "d18e6ecec2b0c063772349e57bb0769b4041868d"
      },
      "cell_type": "markdown",
      "source": "# Exploratory analysis"
    },
    {
      "metadata": {
        "trusted": true,
        "_uuid": "6302cb5074f68d4c397d2b133d2d7b4b4386a25b",
        "collapsed": true
      },
      "cell_type": "code",
      "source": "df.describe()",
      "execution_count": null,
      "outputs": []
    },
    {
      "metadata": {
        "trusted": true,
        "_uuid": "80540a33e6cca052ac63c2799ddeea026a271d79",
        "collapsed": true
      },
      "cell_type": "code",
      "source": "fig, (ax1, ax2) = plt.subplots(1, 2, figsize=(15, 6))\n_ = sns.boxplot(data=df, x='gender', y='age', ax=ax1)\n_ = sns.boxplot(data=df, x='race', y='age', ax=ax2)",
      "execution_count": null,
      "outputs": []
    },
    {
      "metadata": {
        "_uuid": "e6173964c8ab34dfef88c1f697a9e7a7868d5031"
      },
      "cell_type": "markdown",
      "source": "From the plot we can see that most of people are within 10 and 55 years of age. Most probably, we'll discard the dataset for rest of the ages."
    },
    {
      "metadata": {
        "trusted": true,
        "_uuid": "4447de1391041f28b60c61ecdb82e652a6ecf77d",
        "collapsed": true
      },
      "cell_type": "code",
      "source": "plt.figure(figsize=(15, 6))\nsns.boxplot(data=df, x='gender', y='age', hue='race')",
      "execution_count": null,
      "outputs": []
    },
    {
      "metadata": {
        "trusted": true,
        "_uuid": "4931ac80da59c52f82a0b3a4562369ec55ef5b16",
        "collapsed": true
      },
      "cell_type": "code",
      "source": "df.groupby(by=['race', 'gender'])['age'].count().plot(kind='bar')",
      "execution_count": null,
      "outputs": []
    },
    {
      "metadata": {
        "_uuid": "ee2c5d3e747d7fcd1ec0fb9e4766a358b0f991e6"
      },
      "cell_type": "markdown",
      "source": "It turns out that there are many images of *white male* and *while female*. images from *others* category are very less in number compared to rest of the categories especially *white* category.\nLet's analyze our data from *age* perspective."
    },
    {
      "metadata": {
        "trusted": true,
        "_uuid": "6e9d71f01a878481ab3104a17372880e69eca247",
        "collapsed": true
      },
      "cell_type": "code",
      "source": "df['age'].hist()",
      "execution_count": null,
      "outputs": []
    },
    {
      "metadata": {
        "trusted": true,
        "_uuid": "4f31b96c2c3e1e4f4ba3a61d3dad49b103a4cd43",
        "collapsed": true
      },
      "cell_type": "code",
      "source": "df['age'].describe()",
      "execution_count": null,
      "outputs": []
    },
    {
      "metadata": {
        "trusted": true,
        "_uuid": "782a055ef996f186e9c59a25a71e88760d0aed62",
        "collapsed": true
      },
      "cell_type": "code",
      "source": "df = df[(df['age'] > 10) & (df['age'] < 65)]",
      "execution_count": null,
      "outputs": []
    },
    {
      "metadata": {
        "_uuid": "ac2f3eca61465d5f94e350af87dca999418953bb"
      },
      "cell_type": "markdown",
      "source": "# Data prep"
    },
    {
      "metadata": {
        "trusted": true,
        "_uuid": "25b28ba3c0a314feac7346129d50c1a7dfda6bcf",
        "collapsed": true
      },
      "cell_type": "code",
      "source": "p = np.random.permutation(len(df))\ntrain_up_to = int(len(df) * TRAIN_TEST_SPLIT)\ntrain_idx = p[:train_up_to]\ntest_idx = p[train_up_to:]\n\n# split train_idx further into training and validation set\ntrain_up_to = int(train_up_to * 0.7)\ntrain_idx, valid_idx = train_idx[:train_up_to], train_idx[train_up_to:]\n\ndf['gender_id'] = df['gender'].map(lambda gender: GENDER_ID_MAP[gender])\ndf['race_id'] = df['race'].map(lambda race: RACE_ID_MAP[race])\n\nmax_age = df['age'].max()\nlen(train_idx), len(valid_idx), len(test_idx), max_age",
      "execution_count": null,
      "outputs": []
    },
    {
      "metadata": {
        "trusted": true,
        "_uuid": "653d7b0737ffcaf69140e6de74e111e165ae808a",
        "collapsed": true
      },
      "cell_type": "code",
      "source": "from keras.utils import to_categorical\nfrom PIL import Image\n\ndef get_data_generator(df, indices, for_training, batch_size=16):\n    images, ages, races, genders = [], [], [], []\n    while True:\n        for i in indices:\n            r = df.iloc[i]\n            file, age, race, gender = r['file'], r['age'], r['race_id'], r['gender_id']\n            im = Image.open(file)\n            im = im.resize((IM_WIDTH, IM_HEIGHT))\n            im = np.array(im) / 255.0\n            images.append(im)\n            ages.append(age / max_age)\n            races.append(to_categorical(race, len(RACE_ID_MAP)))\n            genders.append(to_categorical(gender, 2))\n            if len(images) >= batch_size:\n                yield np.array(images), [np.array(ages), np.array(races), np.array(genders)]\n                images, ages, races, genders = [], [], [], []\n        if not for_training:\n            break",
      "execution_count": null,
      "outputs": []
    },
    {
      "metadata": {
        "_uuid": "0e067d94f007bf8acae0e2675f1b6f243cd7eac7"
      },
      "cell_type": "markdown",
      "source": "# Model training"
    },
    {
      "metadata": {
        "trusted": true,
        "_uuid": "ab00d8ecdf293d999eb0feeb1accb82d936937ff",
        "collapsed": true
      },
      "cell_type": "code",
      "source": "from keras.layers import Input, Dense, BatchNormalization, Conv2D, MaxPool2D, GlobalMaxPool2D, Dropout\nfrom keras.optimizers import SGD\nfrom keras.models import Model\n\ndef conv_block(inp, filters=32, bn=True, pool=True):\n    _ = Conv2D(filters=filters, kernel_size=3, activation='relu')(inp)\n    if bn:\n        _ = BatchNormalization()(_)\n    if pool:\n        _ = MaxPool2D()(_)\n    return _\n\ninput_layer = Input(shape=(IM_HEIGHT, IM_WIDTH, 3))\n_ = conv_block(input_layer, filters=32, bn=False, pool=False)\n_ = conv_block(_, filters=32*2)\n_ = conv_block(_, filters=32*3)\n_ = conv_block(_, filters=32*4)\n_ = conv_block(_, filters=32*5)\n_ = conv_block(_, filters=32*6)\nbottleneck = GlobalMaxPool2D()(_)\n\n# for age calculation\n_ = Dense(units=128, activation='relu')(bottleneck)\nage_output = Dense(units=1, activation='sigmoid', name='age_output')(_)\n\n# for race prediction\n_ = Dense(units=128, activation='relu')(bottleneck)\nrace_output = Dense(units=len(RACE_ID_MAP), activation='softmax', name='race_output')(_)\n\n# for gender prediction\n_ = Dense(units=128, activation='relu')(bottleneck)\ngender_output = Dense(units=len(GENDER_ID_MAP), activation='softmax', name='gender_output')(_)\n\nmodel = Model(inputs=input_layer, outputs=[age_output, race_output, gender_output])\nmodel.compile(optimizer='rmsprop', \n              loss={'age_output': 'mse', 'race_output': 'categorical_crossentropy', 'gender_output': 'categorical_crossentropy'},\n              loss_weights={'age_output': 2., 'race_output': 1.5, 'gender_output': 1.},\n              metrics={'age_output': 'mae', 'race_output': 'accuracy', 'gender_output': 'accuracy'})\n# model.summary()",
      "execution_count": null,
      "outputs": []
    },
    {
      "metadata": {
        "trusted": true,
        "_uuid": "e623d31c68be2b4f61c3f72749b23e1c694da729",
        "scrolled": true,
        "collapsed": true
      },
      "cell_type": "code",
      "source": "from keras.callbacks import ModelCheckpoint\n\nbatch_size = 64\nvalid_batch_size = 64\ntrain_gen = get_data_generator(df, train_idx, for_training=True, batch_size=batch_size)\nvalid_gen = get_data_generator(df, valid_idx, for_training=True, batch_size=valid_batch_size)\n\ncallbacks = [\n    ModelCheckpoint(\"./model_checkpoint\", monitor='val_loss')\n]\n\nhistory = model.fit_generator(train_gen,\n                    steps_per_epoch=len(train_idx)//batch_size,\n                    epochs=10,\n                    callbacks=callbacks,\n                    validation_data=valid_gen,\n                    validation_steps=len(valid_idx)//valid_batch_size)\n                    \n",
      "execution_count": null,
      "outputs": []
    },
    {
      "metadata": {
        "trusted": true,
        "_uuid": "5f764bc8c13608a9777e4dc63e00275d243570c2",
        "collapsed": true
      },
      "cell_type": "code",
      "source": "def  plot_train_history(history):\n    fig, axes = plt.subplots(1, 4, figsize=(20, 5))\n    axes[0].plot(history.history['race_output_acc'], label='Race Train accuracy')\n    axes[0].plot(history.history['val_race_output_acc'], label='Race Val accuracy')\n    axes[0].set_xlabel('Epochs')\n    axes[0].legend()\n    \n    axes[1].plot(history.history['gender_output_acc'], label='Gender Train accuracy')\n    axes[1].plot(history.history['val_gender_output_acc'], label='Gener Val accuracy')\n    axes[1].set_xlabel('Epochs')\n    axes[1].legend()\n\n    axes[2].plot(history.history['age_output_mean_absolute_error'], label='Age Train MAE')\n    axes[2].plot(history.history['val_age_output_mean_absolute_error'], label='Age Val MAE')\n    axes[2].set_xlabel('Epochs')\n    axes[2].legend()  \n\n    axes[3].plot(history.history['loss'], label='Training loss')\n    axes[3].plot(history.history['val_loss'], label='Validation loss')\n    axes[3].set_xlabel('Epochs')\n    axes[3].legend()\n\nplot_train_history(history)",
      "execution_count": null,
      "outputs": []
    },
    {
      "metadata": {
        "trusted": true,
        "_uuid": "a33d2008b8da404b134a39a8c25d216cb2c6c533",
        "collapsed": true
      },
      "cell_type": "code",
      "source": "test_gen = get_data_generator(df, test_idx, for_training=False, batch_size=128)\ndict(zip(model.metrics_names, model.evaluate_generator(test_gen, steps=len(test_idx)//128)))",
      "execution_count": null,
      "outputs": []
    },
    {
      "metadata": {
        "trusted": true,
        "_uuid": "e4f8ee9244872a68e902cefc7ae1825ac7a94ce3",
        "collapsed": true
      },
      "cell_type": "code",
      "source": "test_gen = get_data_generator(df, test_idx, for_training=False, batch_size=128)\nx_test, (age_true, race_true, gender_true)= next(test_gen)\nage_pred, race_pred, gender_pred = model.predict_on_batch(x_test)",
      "execution_count": null,
      "outputs": []
    },
    {
      "metadata": {
        "trusted": true,
        "_uuid": "625bef1ee6a62be465d11354963fd049cf8c57b5",
        "collapsed": true
      },
      "cell_type": "code",
      "source": "race_true, gender_true = race_true.argmax(axis=-1), gender_true.argmax(axis=-1)\nrace_pred, gender_pred = race_pred.argmax(axis=-1), gender_pred.argmax(axis=-1)\nage_true = age_true * max_age\nage_pred = age_pred * max_age",
      "execution_count": null,
      "outputs": []
    },
    {
      "metadata": {
        "trusted": true,
        "_uuid": "4c94da427745673a748afe309fc009e2a97b72b4",
        "collapsed": true
      },
      "cell_type": "code",
      "source": "from sklearn.metrics import classification_report\nprint(\"Classification report for race\")\nprint(classification_report(race_true, race_pred))\n\nprint(\"\\nClassification report for gender\")\nprint(classification_report(gender_true, gender_pred))\n",
      "execution_count": null,
      "outputs": []
    },
    {
      "metadata": {
        "trusted": true,
        "_uuid": "f207a3b95ddd1cfddaf7dd7cc0f61c703db0d48b",
        "collapsed": true
      },
      "cell_type": "code",
      "source": "import math\nn = 30\nrandom_indices = np.random.permutation(n)\nn_cols = 5\nn_rows = math.ceil(n / n_cols)\nfig, axes = plt.subplots(n_rows, n_cols, figsize=(15, 20))\nfor i, img_idx in enumerate(random_indices):\n    ax = axes.flat[i]\n    ax.imshow(x_test[img_idx])\n    ax.set_title('a:{}, g:{}, r:{}'.format(int(age_pred[img_idx]), ID_GENDER_MAP[gender_pred[img_idx]], ID_RACE_MAP[race_pred[img_idx]]))\n    ax.set_xlabel('a:{}, g:{}, r:{}'.format(int(age_true[img_idx]), ID_GENDER_MAP[gender_true[img_idx]], ID_RACE_MAP[race_true[img_idx]]))\n    ax.set_xticks([])\n    ax.set_yticks([])\n    ",
      "execution_count": null,
      "outputs": []
    },
    {
      "metadata": {
        "trusted": true,
        "collapsed": true,
        "_uuid": "4df916174f1968266afc17988e4bb02cf1cccca0"
      },
      "cell_type": "code",
      "source": "",
      "execution_count": null,
      "outputs": []
    },
    {
      "metadata": {
        "trusted": true,
        "collapsed": true,
        "_uuid": "b269b292feb5d018ce8d7f6ec45eea06de6c581b"
      },
      "cell_type": "code",
      "source": "",
      "execution_count": null,
      "outputs": []
    },
    {
      "metadata": {
        "trusted": true,
        "collapsed": true,
        "_uuid": "01b2658ac01f423ab0ee1137d3b94054c083c018"
      },
      "cell_type": "code",
      "source": "",
      "execution_count": null,
      "outputs": []
    },
    {
      "metadata": {
        "trusted": true,
        "collapsed": true,
        "_uuid": "06f185fb8e1863d3bc9003d1a13e312cd554ceaf"
      },
      "cell_type": "code",
      "source": "",
      "execution_count": null,
      "outputs": []
    },
    {
      "metadata": {
        "trusted": true,
        "collapsed": true,
        "_uuid": "ae92b82f031d82f1f68c2547c992e1ccbda4de21"
      },
      "cell_type": "code",
      "source": "",
      "execution_count": null,
      "outputs": []
    }
  ],
  "metadata": {
    "kernelspec": {
      "display_name": "Python 3",
      "language": "python",
      "name": "python3"
    },
    "language_info": {
      "name": "python",
      "version": "3.6.4",
      "mimetype": "text/x-python",
      "codemirror_mode": {
        "name": "ipython",
        "version": 3
      },
      "pygments_lexer": "ipython3",
      "nbconvert_exporter": "python",
      "file_extension": ".py"
    }
  },
  "nbformat": 4,
  "nbformat_minor": 1
}